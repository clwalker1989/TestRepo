{
 "cells": [
  {
   "cell_type": "markdown",
   "id": "731e3472-44c4-413c-a7e8-af3899698ad2",
   "metadata": {},
   "source": [
    "In this notebook, Data Science Tools and Ecosystem are summarized."
   ]
  },
  {
   "cell_type": "markdown",
   "id": "a0bef898-58fe-4289-84f3-020e614e9489",
   "metadata": {},
   "source": [
    "Some of the popular languages that Data Scientists use are:"
   ]
  },
  {
   "cell_type": "markdown",
   "id": "624e3ba2-c75c-4433-93a1-56f7da134495",
   "metadata": {},
   "source": [
    "1.Python\n",
    "2.R\n",
    "3.SQL\n"
   ]
  },
  {
   "cell_type": "markdown",
   "id": "1f34af88-66f5-4d95-a9a0-669cb1a9dc46",
   "metadata": {},
   "source": [
    "Some of the commonly used libraries used by Data Scientists include:"
   ]
  },
  {
   "cell_type": "markdown",
   "id": "4070e364-2355-4bc1-a4c6-ceac8445894f",
   "metadata": {},
   "source": [
    "1.NumPy\n",
    "2.Matplotlib\n",
    "3.Pandas"
   ]
  },
  {
   "cell_type": "markdown",
   "id": "4f012c3f-d499-45d4-8f01-2b9cb63d6531",
   "metadata": {},
   "source": [
    "Data Science Tools\n",
    "\n",
    "| --- | --- | --- | --- |\n",
    "| RStudio | Apache Spark | | TensorFlow |\n",
    "| -------- | |----------- | |---------- |"
   ]
  },
  {
   "cell_type": "markdown",
   "id": "48b8d7ed-2f1f-4168-8f5f-396cc32c1936",
   "metadata": {},
   "source": [
    "Below are a few examples of evaluating arithmetic expressions in Python."
   ]
  },
  {
   "cell_type": "code",
   "execution_count": 4,
   "id": "f3515454-a8c7-4774-b1b4-65125982a4c3",
   "metadata": {
    "tags": []
   },
   "outputs": [],
   "source": [
    "#This a simple arithmetic expression to mutiply then add integers"
   ]
  },
  {
   "cell_type": "code",
   "execution_count": 5,
   "id": "e50b8692-53bc-403a-9897-bd069974ed12",
   "metadata": {
    "tags": []
   },
   "outputs": [
    {
     "data": {
      "text/plain": [
       "17"
      ]
     },
     "execution_count": 5,
     "metadata": {},
     "output_type": "execute_result"
    }
   ],
   "source": [
    "(3*4)+5"
   ]
  },
  {
   "cell_type": "code",
   "execution_count": 7,
   "id": "04941bd0-2030-41d6-8f00-3579ca209edd",
   "metadata": {
    "tags": []
   },
   "outputs": [],
   "source": [
    "#This will convert 200 minutes to hours by diving by 60"
   ]
  },
  {
   "cell_type": "code",
   "execution_count": 6,
   "id": "2a0cdd93-0ba8-4b02-b3c5-cefe1a32346b",
   "metadata": {
    "tags": []
   },
   "outputs": [
    {
     "data": {
      "text/plain": [
       "3.3333333333333335"
      ]
     },
     "execution_count": 6,
     "metadata": {},
     "output_type": "execute_result"
    }
   ],
   "source": [
    "(200/60)"
   ]
  },
  {
   "cell_type": "markdown",
   "id": "130d3b03-da7d-4823-bc12-60ac896efb20",
   "metadata": {},
   "source": [
    "**Objectives**:\n",
    "\n",
    "- List popular languages for Data Science\n",
    "- Data Science Tools\n",
    "- Popular languages that Data Scientists use\n"
   ]
  },
  {
   "cell_type": "markdown",
   "id": "9c1b07e6-bfc8-4ffd-bcab-19cfc43872ca",
   "metadata": {
    "tags": []
   },
   "source": [
    "Author H2 style heading\n",
    "Chris"
   ]
  },
  {
   "cell_type": "code",
   "execution_count": null,
   "id": "d77ac5f9-e79b-4419-b39c-6e4054b7b533",
   "metadata": {},
   "outputs": [],
   "source": []
  }
 ],
 "metadata": {
  "kernelspec": {
   "display_name": "Python",
   "language": "python",
   "name": "conda-env-python-py"
  },
  "language_info": {
   "codemirror_mode": {
    "name": "ipython",
    "version": 3
   },
   "file_extension": ".py",
   "mimetype": "text/x-python",
   "name": "python",
   "nbconvert_exporter": "python",
   "pygments_lexer": "ipython3",
   "version": "3.7.12"
  }
 },
 "nbformat": 4,
 "nbformat_minor": 5
}
